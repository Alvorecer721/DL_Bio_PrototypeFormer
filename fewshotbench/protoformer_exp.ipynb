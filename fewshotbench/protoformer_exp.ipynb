{
 "cells": [
  {
   "cell_type": "code",
   "execution_count": 4,
   "metadata": {},
   "outputs": [],
   "source": [
    "%load_ext autoreload\n",
    "%autoreload 2"
   ]
  },
  {
   "cell_type": "code",
   "execution_count": 5,
   "metadata": {},
   "outputs": [],
   "source": [
    "import os\n",
    "\n",
    "import wandb\n",
    "import torch.nn as nn\n",
    "import numpy as np\n",
    "import torch\n",
    "from torch.autograd import Variable\n",
    "from torch.utils.data import DataLoader, Dataset\n",
    "\n",
    "from IPython.display import clear_output\n",
    "\n",
    "import matplotlib.pyplot as plt"
   ]
  },
  {
   "cell_type": "code",
   "execution_count": 6,
   "metadata": {},
   "outputs": [
    {
     "name": "stdout",
     "output_type": "stream",
     "text": [
      "  EXISTS: go-basic.obo\n",
      "go-basic.obo: fmt(1.2) rel(2023-06-11) 46,420 Terms; optional_attrs(relationship)\n"
     ]
    },
    {
     "name": "stderr",
     "output_type": "stream",
     "text": [
      "/home/cat/.local/lib/python3.9/site-packages/numba/core/errors.py:175: UserWarning: Insufficiently recent colorama version found. Numba requires colorama >= 0.3.9\n",
      "  warnings.warn(msg)\n"
     ]
    }
   ],
   "source": [
    "from datasets.prot.swissprot import SPSetDataset\n",
    "\n",
    "from backbones.id import Id\n",
    "from backbones.fcnet import FCNet\n",
    "\n",
    "from methods.protonet import ProtoNet\n",
    "from methods.protoformer import ProtoFormer"
   ]
  },
  {
   "cell_type": "code",
   "execution_count": 7,
   "metadata": {},
   "outputs": [],
   "source": [
    "%%script false --no-raise-error\n",
    "\n",
    "\n",
    "! pip install -r requirements.txt"
   ]
  },
  {
   "cell_type": "code",
   "execution_count": 8,
   "metadata": {},
   "outputs": [],
   "source": [
    "%%script false --no-raise-error\n",
    "\n",
    "\n",
    "import gdown\n",
    "\n",
    "url = 'https://drive.google.com/u/0/uc?id=1a3IFmUMUXBH8trx_VWKZEGteRiotOkZS&export=download'\n",
    "\n",
    "if os.path.exists('swissprot.zip'):\n",
    "    print('File already downloaded.')\n",
    "else:\n",
    "    output = 'swissprot.zip'\n",
    "    gdown.download(url, output, quiet=False)\n",
    "    print('Download completed.')"
   ]
  },
  {
   "cell_type": "code",
   "execution_count": 9,
   "metadata": {},
   "outputs": [],
   "source": [
    "%%script false --no-raise-error\n",
    "\n",
    "\n",
    "!unzip -q swissprot.zip\n",
    "\n",
    "!rm -rf swissprot.zip\n",
    "clear_output()\n",
    "\n",
    "!mv data/swissprot/go-basic.obo ./"
   ]
  },
  {
   "cell_type": "code",
   "execution_count": 10,
   "metadata": {},
   "outputs": [
    {
     "name": "stdout",
     "output_type": "stream",
     "text": [
      "\n",
      "**WARNING: NO VERSION LINE FOUND IN GAF FILE. USING:\n",
      "!gaf-version: 2.2\n"
     ]
    },
    {
     "name": "stderr",
     "output_type": "stream",
     "text": [
      "ERROR:root:Failed to validate header as GAF v2.2:\n",
      "[]\n"
     ]
    },
    {
     "name": "stdout",
     "output_type": "stream",
     "text": [
      "HMS:0:00:07.572030 310,057 annotations READ: ./data/swissprot/filtered_goa_uniprot_all_noiea.gaf \n",
      "25933 IDs in loaded association branch, BP\n",
      "\n",
      "**WARNING: NO VERSION LINE FOUND IN GAF FILE. USING:\n",
      "!gaf-version: 2.2\n"
     ]
    },
    {
     "name": "stderr",
     "output_type": "stream",
     "text": [
      "ERROR:root:Failed to validate header as GAF v2.2:\n",
      "[]\n"
     ]
    },
    {
     "name": "stdout",
     "output_type": "stream",
     "text": [
      "HMS:0:00:06.879036 310,057 annotations READ: ./data/swissprot/filtered_goa_uniprot_all_noiea.gaf \n",
      "25933 IDs in loaded association branch, BP\n"
     ]
    }
   ],
   "source": [
    "n_way, n_support, n_query, n_train_episode = 5, 5, 15, 5\n",
    "\n",
    "# Load train dataset. Remember to use make use of functions defined in the `SPSetDataset`.\n",
    "train_dataset = SPSetDataset(n_way, n_support, n_query, n_episode=n_train_episode, root='./data', mode='train')\n",
    "train_loader = train_dataset.get_data_loader()\n",
    "\n",
    "# Load test dataset. Remember to use make use of functions defined in the `SPSetDataset`.\n",
    "test_dataset = SPSetDataset(n_way, n_support, n_query, n_episode=100, root='./data', mode='test')\n",
    "test_loader = test_dataset.get_data_loader()"
   ]
  },
  {
   "cell_type": "code",
   "execution_count": 23,
   "metadata": {},
   "outputs": [],
   "source": [
    "def train_model(n_way, n_support, n_query, n_train_episode, train_loader, test_loader, backbone):\n",
    "    wandb.init()\n",
    "    # Initialize model using the backbone and the optimizer.\n",
    "    model = ProtoFormer(backbone, n_way, n_support)\n",
    "    optimizer = torch.optim.Adam(model.parameters(), lr=7e-7)\n",
    "\n",
    "    test_accs = []; train_accs = []; train_losses = []\n",
    "    for epoch in range(100):\n",
    "        model.train()\n",
    "\n",
    "        epoch_loss = model.train_loop(epoch, train_loader, optimizer)\n",
    "        train_losses.append(epoch_loss)\n",
    "\n",
    "        train_acc = model.test_loop(train_loader)\n",
    "        train_accs.append(train_acc)\n",
    "\n",
    "        test_acc = model.test_loop(test_loader)\n",
    "        test_accs.append(test_acc)\n",
    "        print(f'Epoch {epoch} | Train Loss {epoch_loss} | Train Acc {train_acc} | Test Acc {test_acc}')\n",
    "\n",
    "    fig, (ax1, ax2) = plt.subplots(1, 2, figsize=(7, 2.5))\n",
    "    ax1.plot(range(len(train_losses)), train_losses)\n",
    "    ax1.set_xlabel('Epoch')\n",
    "    ax1.set_ylabel('Train Loss')\n",
    "    ax1.grid()\n",
    "\n",
    "    ax2.plot(range(len(test_accs)), test_accs)\n",
    "    ax2.set_xlabel('Epoch')\n",
    "    ax2.set_ylabel('Test Accuracy')\n",
    "    ax2.grid()\n",
    "    fig.suptitle(f\"n_way={n_way}, n_support={n_support}, n_query={n_query}, n_train_episode={n_train_episode}\")\n",
    "\n",
    "    plt.tight_layout()"
   ]
  },
  {
   "cell_type": "code",
   "execution_count": 24,
   "metadata": {},
   "outputs": [
    {
     "data": {
      "text/html": [
       "Finishing last run (ID:fz12vzlt) before initializing another..."
      ],
      "text/plain": [
       "<IPython.core.display.HTML object>"
      ]
     },
     "metadata": {},
     "output_type": "display_data"
    },
    {
     "data": {
      "application/vnd.jupyter.widget-view+json": {
       "model_id": "7464ba83c9cc4274831b09ae01d9e82f",
       "version_major": 2,
       "version_minor": 0
      },
      "text/plain": [
       "VBox(children=(Label(value='0.000 MB of 0.000 MB uploaded\\r'), FloatProgress(value=1.0, max=1.0)))"
      ]
     },
     "metadata": {},
     "output_type": "display_data"
    },
    {
     "data": {
      "text/html": [
       "<style>\n",
       "    table.wandb td:nth-child(1) { padding: 0 10px; text-align: left ; width: auto;} td:nth-child(2) {text-align: left ; width: 100%}\n",
       "    .wandb-row { display: flex; flex-direction: row; flex-wrap: wrap; justify-content: flex-start; width: 100% }\n",
       "    .wandb-col { display: flex; flex-direction: column; flex-basis: 100%; flex: 1; padding: 10px; }\n",
       "    </style>\n",
       "<div class=\"wandb-row\"><div class=\"wandb-col\"><h3>Run history:</h3><br/><table class=\"wandb\"><tr><td>loss</td><td>▅▇▂▄█▂▅▅▄▃▂▂▃▃▂▃▂▃▄▃▂▁▆▂▄▃▃▄▄▃▄▃▁▂▁▁▃▁▂▃</td></tr></table><br/></div><div class=\"wandb-col\"><h3>Run summary:</h3><br/><table class=\"wandb\"><tr><td>loss</td><td>1.87671</td></tr></table><br/></div></div>"
      ],
      "text/plain": [
       "<IPython.core.display.HTML object>"
      ]
     },
     "metadata": {},
     "output_type": "display_data"
    },
    {
     "data": {
      "text/html": [
       "You can sync this run to the cloud by running:<br/><code>wandb sync /home/cat/EPFL/Fall 2023/DL_bio/DL_Bio_PrototypeFormer/fewshotbench/wandb/offline-run-20231201_211846-fz12vzlt<code>"
      ],
      "text/plain": [
       "<IPython.core.display.HTML object>"
      ]
     },
     "metadata": {},
     "output_type": "display_data"
    },
    {
     "data": {
      "text/html": [
       "Find logs at: <code>./wandb/offline-run-20231201_211846-fz12vzlt/logs</code>"
      ],
      "text/plain": [
       "<IPython.core.display.HTML object>"
      ]
     },
     "metadata": {},
     "output_type": "display_data"
    },
    {
     "data": {
      "text/html": [
       "Successfully finished last run (ID:fz12vzlt). Initializing new run:<br/>"
      ],
      "text/plain": [
       "<IPython.core.display.HTML object>"
      ]
     },
     "metadata": {},
     "output_type": "display_data"
    },
    {
     "data": {
      "text/html": [
       "Tracking run with wandb version 0.16.0"
      ],
      "text/plain": [
       "<IPython.core.display.HTML object>"
      ]
     },
     "metadata": {},
     "output_type": "display_data"
    },
    {
     "data": {
      "text/html": [
       "W&B syncing is set to <code>`offline`<code> in this directory.  <br/>Run <code>`wandb online`<code> or set <code>WANDB_MODE=online<code> to enable cloud syncing."
      ],
      "text/plain": [
       "<IPython.core.display.HTML object>"
      ]
     },
     "metadata": {},
     "output_type": "display_data"
    },
    {
     "name": "stdout",
     "output_type": "stream",
     "text": [
      "Epoch 0 | Batch 0/5 | Loss 1.047951\n",
      "5 Test Acc = 56.80% +- 9.19%\n",
      "100 Test Acc = 51.52% +- 1.87%\n",
      "Epoch 0 | Train Loss None | Train Acc 56.8 | Test Acc 51.52\n",
      "Epoch 1 | Batch 0/5 | Loss 4.192494\n",
      "5 Test Acc = 57.33% +- 6.49%\n",
      "100 Test Acc = 51.85% +- 1.76%\n",
      "Epoch 1 | Train Loss None | Train Acc 57.333333333333336 | Test Acc 51.853333333333346\n",
      "Epoch 2 | Batch 0/5 | Loss 2.333687\n",
      "5 Test Acc = 57.33% +- 12.12%\n",
      "100 Test Acc = 53.24% +- 1.85%\n",
      "Epoch 2 | Train Loss None | Train Acc 57.333333333333336 | Test Acc 53.24\n",
      "Epoch 3 | Batch 0/5 | Loss 1.604960\n",
      "5 Test Acc = 67.20% +- 12.05%\n",
      "100 Test Acc = 53.05% +- 1.81%\n",
      "Epoch 3 | Train Loss None | Train Acc 67.2 | Test Acc 53.05333333333333\n",
      "Epoch 4 | Batch 0/5 | Loss 1.134852\n",
      "5 Test Acc = 70.93% +- 6.54%\n",
      "100 Test Acc = 52.16% +- 1.99%\n",
      "Epoch 4 | Train Loss None | Train Acc 70.93333333333332 | Test Acc 52.16\n",
      "Epoch 5 | Batch 0/5 | Loss 2.169681\n",
      "5 Test Acc = 63.73% +- 11.15%\n",
      "100 Test Acc = 54.23% +- 1.56%\n",
      "Epoch 5 | Train Loss None | Train Acc 63.733333333333334 | Test Acc 54.22666666666666\n",
      "Epoch 6 | Batch 0/5 | Loss 1.909249\n",
      "5 Test Acc = 63.73% +- 6.91%\n",
      "100 Test Acc = 53.60% +- 1.79%\n",
      "Epoch 6 | Train Loss None | Train Acc 63.733333333333334 | Test Acc 53.6\n",
      "Epoch 7 | Batch 0/5 | Loss 1.652046\n",
      "5 Test Acc = 66.67% +- 14.48%\n",
      "100 Test Acc = 53.92% +- 1.81%\n",
      "Epoch 7 | Train Loss None | Train Acc 66.66666666666666 | Test Acc 53.92\n",
      "Epoch 8 | Batch 0/5 | Loss 1.360374\n",
      "5 Test Acc = 54.40% +- 7.52%\n",
      "100 Test Acc = 52.87% +- 1.76%\n",
      "Epoch 8 | Train Loss None | Train Acc 54.4 | Test Acc 52.86666666666667\n",
      "Epoch 9 | Batch 0/5 | Loss 2.809766\n",
      "5 Test Acc = 65.87% +- 12.16%\n",
      "100 Test Acc = 53.97% +- 1.63%\n",
      "Epoch 9 | Train Loss None | Train Acc 65.86666666666667 | Test Acc 53.973333333333336\n",
      "Epoch 10 | Batch 0/5 | Loss 1.361638\n",
      "5 Test Acc = 52.53% +- 11.70%\n",
      "100 Test Acc = 54.31% +- 1.58%\n",
      "Epoch 10 | Train Loss None | Train Acc 52.53333333333334 | Test Acc 54.30666666666667\n",
      "Epoch 11 | Batch 0/5 | Loss 1.140992\n",
      "5 Test Acc = 58.40% +- 10.49%\n",
      "100 Test Acc = 54.40% +- 1.76%\n",
      "Epoch 11 | Train Loss None | Train Acc 58.4 | Test Acc 54.39999999999999\n",
      "Epoch 12 | Batch 0/5 | Loss 2.142223\n",
      "5 Test Acc = 61.33% +- 8.68%\n",
      "100 Test Acc = 54.61% +- 1.77%\n",
      "Epoch 12 | Train Loss None | Train Acc 61.333333333333336 | Test Acc 54.61333333333333\n",
      "Epoch 13 | Batch 0/5 | Loss 3.617111\n",
      "5 Test Acc = 60.00% +- 8.99%\n",
      "100 Test Acc = 53.83% +- 1.54%\n",
      "Epoch 13 | Train Loss None | Train Acc 60.0 | Test Acc 53.826666666666654\n",
      "Epoch 14 | Batch 0/5 | Loss 2.197581\n",
      "5 Test Acc = 58.13% +- 7.07%\n",
      "100 Test Acc = 54.40% +- 1.95%\n",
      "Epoch 14 | Train Loss None | Train Acc 58.133333333333326 | Test Acc 54.39999999999999\n",
      "Epoch 15 | Batch 0/5 | Loss 3.560309\n",
      "5 Test Acc = 60.00% +- 5.58%\n",
      "100 Test Acc = 53.43% +- 1.67%\n",
      "Epoch 15 | Train Loss None | Train Acc 60.000000000000014 | Test Acc 53.42666666666668\n",
      "Epoch 16 | Batch 0/5 | Loss 2.068080\n",
      "5 Test Acc = 64.00% +- 10.05%\n",
      "100 Test Acc = 55.19% +- 1.83%\n",
      "Epoch 16 | Train Loss None | Train Acc 64.0 | Test Acc 55.18666666666668\n",
      "Epoch 17 | Batch 0/5 | Loss 0.607591\n",
      "5 Test Acc = 51.47% +- 7.45%\n",
      "100 Test Acc = 54.31% +- 1.96%\n",
      "Epoch 17 | Train Loss None | Train Acc 51.46666666666666 | Test Acc 54.30666666666666\n",
      "Epoch 18 | Batch 0/5 | Loss 1.319161\n",
      "5 Test Acc = 67.47% +- 6.72%\n",
      "100 Test Acc = 52.89% +- 1.63%\n",
      "Epoch 18 | Train Loss None | Train Acc 67.46666666666667 | Test Acc 52.89333333333333\n",
      "Epoch 19 | Batch 0/5 | Loss 2.143945\n",
      "5 Test Acc = 56.53% +- 13.96%\n",
      "100 Test Acc = 53.23% +- 1.78%\n",
      "Epoch 19 | Train Loss None | Train Acc 56.533333333333324 | Test Acc 53.22666666666668\n",
      "Epoch 20 | Batch 0/5 | Loss 3.131422\n",
      "5 Test Acc = 58.13% +- 8.92%\n",
      "100 Test Acc = 53.75% +- 1.66%\n",
      "Epoch 20 | Train Loss None | Train Acc 58.13333333333334 | Test Acc 53.74666666666667\n",
      "Epoch 21 | Batch 0/5 | Loss 3.548501\n",
      "5 Test Acc = 72.00% +- 9.81%\n",
      "100 Test Acc = 55.91% +- 1.81%\n",
      "Epoch 21 | Train Loss None | Train Acc 72.0 | Test Acc 55.90666666666666\n",
      "Epoch 22 | Batch 0/5 | Loss 3.084852\n",
      "5 Test Acc = 56.53% +- 15.23%\n",
      "100 Test Acc = 54.39% +- 1.91%\n",
      "Epoch 22 | Train Loss None | Train Acc 56.53333333333334 | Test Acc 54.38666666666667\n",
      "Epoch 23 | Batch 0/5 | Loss 2.177219\n",
      "5 Test Acc = 63.47% +- 4.59%\n",
      "100 Test Acc = 54.60% +- 1.60%\n",
      "Epoch 23 | Train Loss None | Train Acc 63.46666666666666 | Test Acc 54.6\n",
      "Epoch 24 | Batch 0/5 | Loss 1.983052\n",
      "5 Test Acc = 55.20% +- 14.31%\n",
      "100 Test Acc = 54.19% +- 1.77%\n",
      "Epoch 24 | Train Loss None | Train Acc 55.2 | Test Acc 54.18666666666667\n",
      "Epoch 25 | Batch 0/5 | Loss 1.918543\n",
      "5 Test Acc = 62.93% +- 10.97%\n",
      "100 Test Acc = 54.81% +- 1.52%\n",
      "Epoch 25 | Train Loss None | Train Acc 62.93333333333334 | Test Acc 54.81333333333333\n",
      "Epoch 26 | Batch 0/5 | Loss 1.808874\n",
      "5 Test Acc = 66.40% +- 14.86%\n",
      "100 Test Acc = 54.96% +- 1.58%\n",
      "Epoch 26 | Train Loss None | Train Acc 66.4 | Test Acc 54.96\n",
      "Epoch 27 | Batch 0/5 | Loss 1.643566\n",
      "5 Test Acc = 56.53% +- 3.59%\n",
      "100 Test Acc = 55.00% +- 1.69%\n",
      "Epoch 27 | Train Loss None | Train Acc 56.53333333333334 | Test Acc 55.00000000000001\n",
      "Epoch 28 | Batch 0/5 | Loss 1.659757\n",
      "5 Test Acc = 60.80% +- 9.40%\n",
      "100 Test Acc = 55.07% +- 1.81%\n",
      "Epoch 28 | Train Loss None | Train Acc 60.8 | Test Acc 55.06666666666666\n",
      "Epoch 29 | Batch 0/5 | Loss 1.840441\n",
      "5 Test Acc = 69.33% +- 9.72%\n",
      "100 Test Acc = 56.03% +- 1.55%\n",
      "Epoch 29 | Train Loss None | Train Acc 69.33333333333334 | Test Acc 56.02666666666667\n",
      "Epoch 30 | Batch 0/5 | Loss 3.858236\n",
      "5 Test Acc = 53.07% +- 14.40%\n",
      "100 Test Acc = 54.05% +- 1.56%\n",
      "Epoch 30 | Train Loss None | Train Acc 53.06666666666666 | Test Acc 54.05333333333334\n",
      "Epoch 31 | Batch 0/5 | Loss 5.113932\n",
      "5 Test Acc = 66.13% +- 6.21%\n",
      "100 Test Acc = 55.39% +- 1.96%\n",
      "Epoch 31 | Train Loss None | Train Acc 66.13333333333333 | Test Acc 55.38666666666666\n",
      "Epoch 32 | Batch 0/5 | Loss 2.076389\n",
      "5 Test Acc = 73.33% +- 8.71%\n",
      "100 Test Acc = 53.32% +- 1.86%\n",
      "Epoch 32 | Train Loss None | Train Acc 73.33333333333334 | Test Acc 53.32\n",
      "Epoch 33 | Batch 0/5 | Loss 3.677875\n",
      "5 Test Acc = 59.47% +- 14.74%\n",
      "100 Test Acc = 54.01% +- 2.10%\n",
      "Epoch 33 | Train Loss None | Train Acc 59.466666666666676 | Test Acc 54.01333333333334\n",
      "Epoch 34 | Batch 0/5 | Loss 1.990296\n",
      "5 Test Acc = 60.80% +- 9.43%\n",
      "100 Test Acc = 55.27% +- 1.77%\n",
      "Epoch 34 | Train Loss None | Train Acc 60.8 | Test Acc 55.26666666666667\n",
      "Epoch 35 | Batch 0/5 | Loss 0.994689\n",
      "5 Test Acc = 63.20% +- 7.11%\n",
      "100 Test Acc = 54.03% +- 1.75%\n",
      "Epoch 35 | Train Loss None | Train Acc 63.2 | Test Acc 54.02666666666667\n",
      "Epoch 36 | Batch 0/5 | Loss 2.007221\n",
      "5 Test Acc = 59.20% +- 6.84%\n",
      "100 Test Acc = 55.17% +- 1.67%\n",
      "Epoch 36 | Train Loss None | Train Acc 59.2 | Test Acc 55.17333333333334\n",
      "Epoch 37 | Batch 0/5 | Loss 0.797440\n",
      "5 Test Acc = 67.73% +- 8.47%\n",
      "100 Test Acc = 55.45% +- 1.69%\n",
      "Epoch 37 | Train Loss None | Train Acc 67.73333333333333 | Test Acc 55.45333333333332\n",
      "Epoch 38 | Batch 0/5 | Loss 2.090231\n",
      "5 Test Acc = 74.93% +- 9.96%\n",
      "100 Test Acc = 53.71% +- 2.05%\n",
      "Epoch 38 | Train Loss None | Train Acc 74.93333333333332 | Test Acc 53.70666666666667\n",
      "Epoch 39 | Batch 0/5 | Loss 0.943244\n",
      "5 Test Acc = 55.73% +- 12.36%\n",
      "100 Test Acc = 54.77% +- 1.85%\n",
      "Epoch 39 | Train Loss None | Train Acc 55.733333333333334 | Test Acc 54.77333333333333\n",
      "Epoch 40 | Batch 0/5 | Loss 2.402338\n",
      "5 Test Acc = 63.20% +- 7.30%\n",
      "100 Test Acc = 55.25% +- 1.82%\n",
      "Epoch 40 | Train Loss None | Train Acc 63.2 | Test Acc 55.25333333333333\n",
      "Epoch 41 | Batch 0/5 | Loss 2.613634\n",
      "5 Test Acc = 60.53% +- 10.98%\n",
      "100 Test Acc = 54.93% +- 2.20%\n",
      "Epoch 41 | Train Loss None | Train Acc 60.533333333333324 | Test Acc 54.93333333333333\n",
      "Epoch 42 | Batch 0/5 | Loss 3.287463\n",
      "5 Test Acc = 60.00% +- 6.49%\n",
      "100 Test Acc = 54.31% +- 1.68%\n",
      "Epoch 42 | Train Loss None | Train Acc 60.0 | Test Acc 54.30666666666666\n",
      "Epoch 43 | Batch 0/5 | Loss 2.326995\n",
      "5 Test Acc = 66.13% +- 6.38%\n",
      "100 Test Acc = 55.17% +- 1.66%\n",
      "Epoch 43 | Train Loss None | Train Acc 66.13333333333333 | Test Acc 55.17333333333333\n",
      "Epoch 44 | Batch 0/5 | Loss 2.135477\n",
      "5 Test Acc = 65.87% +- 7.77%\n",
      "100 Test Acc = 55.40% +- 1.53%\n",
      "Epoch 44 | Train Loss None | Train Acc 65.86666666666666 | Test Acc 55.39999999999999\n",
      "Epoch 45 | Batch 0/5 | Loss 1.048697\n",
      "5 Test Acc = 53.33% +- 12.89%\n",
      "100 Test Acc = 54.35% +- 1.79%\n",
      "Epoch 45 | Train Loss None | Train Acc 53.333333333333336 | Test Acc 54.34666666666667\n",
      "Epoch 46 | Batch 0/5 | Loss 3.191947\n",
      "5 Test Acc = 72.53% +- 5.15%\n",
      "100 Test Acc = 54.17% +- 1.49%\n",
      "Epoch 46 | Train Loss None | Train Acc 72.53333333333333 | Test Acc 54.17333333333333\n",
      "Epoch 47 | Batch 0/5 | Loss 1.559305\n",
      "5 Test Acc = 49.60% +- 9.85%\n",
      "100 Test Acc = 56.84% +- 1.54%\n",
      "Epoch 47 | Train Loss None | Train Acc 49.6 | Test Acc 56.84000000000001\n",
      "Epoch 48 | Batch 0/5 | Loss 1.824240\n",
      "5 Test Acc = 63.20% +- 8.89%\n",
      "100 Test Acc = 54.97% +- 1.99%\n",
      "Epoch 48 | Train Loss None | Train Acc 63.2 | Test Acc 54.973333333333336\n",
      "Epoch 49 | Batch 0/5 | Loss 1.717280\n",
      "5 Test Acc = 51.73% +- 5.40%\n",
      "100 Test Acc = 55.95% +- 1.98%\n",
      "Epoch 49 | Train Loss None | Train Acc 51.733333333333334 | Test Acc 55.94666666666667\n",
      "Epoch 50 | Batch 0/5 | Loss 1.405263\n",
      "5 Test Acc = 60.80% +- 7.77%\n",
      "100 Test Acc = 54.68% +- 1.85%\n",
      "Epoch 50 | Train Loss None | Train Acc 60.8 | Test Acc 54.68\n",
      "Epoch 51 | Batch 0/5 | Loss 4.527216\n",
      "5 Test Acc = 55.20% +- 9.10%\n",
      "100 Test Acc = 55.80% +- 1.76%\n",
      "Epoch 51 | Train Loss None | Train Acc 55.2 | Test Acc 55.8\n",
      "Epoch 52 | Batch 0/5 | Loss 1.610193\n",
      "5 Test Acc = 77.33% +- 8.99%\n",
      "100 Test Acc = 57.36% +- 1.56%\n",
      "Epoch 52 | Train Loss None | Train Acc 77.33333333333333 | Test Acc 57.36\n",
      "Epoch 53 | Batch 0/5 | Loss 1.295572\n",
      "5 Test Acc = 64.27% +- 10.95%\n",
      "100 Test Acc = 53.99% +- 1.77%\n",
      "Epoch 53 | Train Loss None | Train Acc 64.26666666666668 | Test Acc 53.98666666666668\n",
      "Epoch 54 | Batch 0/5 | Loss 2.600944\n",
      "5 Test Acc = 64.80% +- 10.78%\n",
      "100 Test Acc = 53.64% +- 2.12%\n",
      "Epoch 54 | Train Loss None | Train Acc 64.8 | Test Acc 53.64\n",
      "Epoch 55 | Batch 0/5 | Loss 1.887961\n",
      "5 Test Acc = 71.73% +- 11.02%\n",
      "100 Test Acc = 54.40% +- 2.07%\n",
      "Epoch 55 | Train Loss None | Train Acc 71.73333333333333 | Test Acc 54.4\n",
      "Epoch 56 | Batch 0/5 | Loss 3.160669\n",
      "5 Test Acc = 61.33% +- 10.58%\n",
      "100 Test Acc = 55.05% +- 1.79%\n",
      "Epoch 56 | Train Loss None | Train Acc 61.333333333333336 | Test Acc 55.05333333333333\n",
      "Epoch 57 | Batch 0/5 | Loss 1.763510\n",
      "5 Test Acc = 69.07% +- 8.63%\n",
      "100 Test Acc = 53.55% +- 1.66%\n",
      "Epoch 57 | Train Loss None | Train Acc 69.06666666666666 | Test Acc 53.54666666666667\n",
      "Epoch 58 | Batch 0/5 | Loss 2.860519\n",
      "5 Test Acc = 64.53% +- 9.85%\n",
      "100 Test Acc = 53.93% +- 2.09%\n",
      "Epoch 58 | Train Loss None | Train Acc 64.53333333333333 | Test Acc 53.93333333333334\n",
      "Epoch 59 | Batch 0/5 | Loss 1.793939\n",
      "5 Test Acc = 66.93% +- 6.59%\n",
      "100 Test Acc = 54.88% +- 1.95%\n",
      "Epoch 59 | Train Loss None | Train Acc 66.93333333333334 | Test Acc 54.87999999999999\n",
      "Epoch 60 | Batch 0/5 | Loss 3.832384\n",
      "5 Test Acc = 56.27% +- 6.59%\n",
      "100 Test Acc = 56.37% +- 1.70%\n",
      "Epoch 60 | Train Loss None | Train Acc 56.266666666666666 | Test Acc 56.37333333333333\n",
      "Epoch 61 | Batch 0/5 | Loss 0.829598\n",
      "5 Test Acc = 62.93% +- 8.14%\n",
      "100 Test Acc = 56.16% +- 1.88%\n",
      "Epoch 61 | Train Loss None | Train Acc 62.93333333333334 | Test Acc 56.16000000000001\n",
      "Epoch 62 | Batch 0/5 | Loss 1.851933\n",
      "5 Test Acc = 72.00% +- 14.04%\n",
      "100 Test Acc = 55.43% +- 1.75%\n",
      "Epoch 62 | Train Loss None | Train Acc 72.0 | Test Acc 55.42666666666666\n",
      "Epoch 63 | Batch 0/5 | Loss 2.383844\n",
      "5 Test Acc = 56.27% +- 8.51%\n",
      "100 Test Acc = 54.59% +- 2.01%\n",
      "Epoch 63 | Train Loss None | Train Acc 56.26666666666667 | Test Acc 54.58666666666667\n",
      "Epoch 64 | Batch 0/5 | Loss 2.647441\n",
      "5 Test Acc = 70.67% +- 8.30%\n",
      "100 Test Acc = 56.19% +- 1.77%\n",
      "Epoch 64 | Train Loss None | Train Acc 70.66666666666666 | Test Acc 56.18666666666668\n",
      "Epoch 65 | Batch 0/5 | Loss 2.458593\n",
      "5 Test Acc = 58.40% +- 7.59%\n",
      "100 Test Acc = 57.21% +- 1.75%\n",
      "Epoch 65 | Train Loss None | Train Acc 58.4 | Test Acc 57.21333333333333\n",
      "Epoch 66 | Batch 0/5 | Loss 1.296178\n",
      "5 Test Acc = 75.47% +- 13.64%\n",
      "100 Test Acc = 56.75% +- 1.71%\n",
      "Epoch 66 | Train Loss None | Train Acc 75.46666666666667 | Test Acc 56.74666666666666\n",
      "Epoch 67 | Batch 0/5 | Loss 1.934865\n",
      "5 Test Acc = 57.87% +- 12.11%\n",
      "100 Test Acc = 53.83% +- 2.00%\n",
      "Epoch 67 | Train Loss None | Train Acc 57.866666666666674 | Test Acc 53.82666666666668\n",
      "Epoch 68 | Batch 0/5 | Loss 1.595255\n",
      "5 Test Acc = 54.93% +- 9.85%\n",
      "100 Test Acc = 52.88% +- 1.88%\n",
      "Epoch 68 | Train Loss None | Train Acc 54.93333333333332 | Test Acc 52.88\n",
      "Epoch 69 | Batch 0/5 | Loss 1.458370\n",
      "5 Test Acc = 65.87% +- 10.12%\n",
      "100 Test Acc = 55.35% +- 1.91%\n",
      "Epoch 69 | Train Loss None | Train Acc 65.86666666666666 | Test Acc 55.346666666666664\n",
      "Epoch 70 | Batch 0/5 | Loss 3.677841\n",
      "5 Test Acc = 56.27% +- 9.12%\n",
      "100 Test Acc = 56.59% +- 1.50%\n",
      "Epoch 70 | Train Loss None | Train Acc 56.26666666666667 | Test Acc 56.58666666666667\n",
      "Epoch 71 | Batch 0/5 | Loss 2.024591\n",
      "5 Test Acc = 67.73% +- 6.67%\n",
      "100 Test Acc = 56.13% +- 1.55%\n",
      "Epoch 71 | Train Loss None | Train Acc 67.73333333333335 | Test Acc 56.13333333333332\n",
      "Epoch 72 | Batch 0/5 | Loss 5.072754\n",
      "5 Test Acc = 53.60% +- 11.65%\n",
      "100 Test Acc = 54.03% +- 2.02%\n",
      "Epoch 72 | Train Loss None | Train Acc 53.6 | Test Acc 54.02666666666668\n",
      "Epoch 73 | Batch 0/5 | Loss 2.110077\n",
      "5 Test Acc = 65.33% +- 8.99%\n",
      "100 Test Acc = 56.36% +- 1.70%\n",
      "Epoch 73 | Train Loss None | Train Acc 65.33333333333333 | Test Acc 56.36\n",
      "Epoch 74 | Batch 0/5 | Loss 1.469807\n",
      "5 Test Acc = 58.67% +- 10.05%\n",
      "100 Test Acc = 55.73% +- 1.93%\n",
      "Epoch 74 | Train Loss None | Train Acc 58.666666666666664 | Test Acc 55.73333333333333\n",
      "Epoch 75 | Batch 0/5 | Loss 3.570604\n",
      "5 Test Acc = 57.87% +- 4.47%\n",
      "100 Test Acc = 56.28% +- 1.81%\n",
      "Epoch 75 | Train Loss None | Train Acc 57.86666666666666 | Test Acc 56.279999999999994\n",
      "Epoch 76 | Batch 0/5 | Loss 2.811771\n",
      "5 Test Acc = 67.47% +- 10.20%\n",
      "100 Test Acc = 54.95% +- 1.92%\n",
      "Epoch 76 | Train Loss None | Train Acc 67.46666666666667 | Test Acc 54.94666666666667\n",
      "Epoch 77 | Batch 0/5 | Loss 1.365710\n",
      "5 Test Acc = 54.67% +- 10.51%\n",
      "100 Test Acc = 55.95% +- 1.60%\n",
      "Epoch 77 | Train Loss None | Train Acc 54.66666666666667 | Test Acc 55.94666666666666\n",
      "Epoch 78 | Batch 0/5 | Loss 0.729190\n",
      "5 Test Acc = 69.07% +- 12.64%\n",
      "100 Test Acc = 56.35% +- 1.61%\n",
      "Epoch 78 | Train Loss None | Train Acc 69.06666666666666 | Test Acc 56.346666666666664\n",
      "Epoch 79 | Batch 0/5 | Loss 0.833740\n",
      "5 Test Acc = 57.87% +- 9.82%\n",
      "100 Test Acc = 55.07% +- 2.21%\n",
      "Epoch 79 | Train Loss None | Train Acc 57.86666666666666 | Test Acc 55.06666666666667\n",
      "Epoch 80 | Batch 0/5 | Loss 0.656429\n",
      "5 Test Acc = 69.07% +- 6.33%\n",
      "100 Test Acc = 55.21% +- 1.97%\n",
      "Epoch 80 | Train Loss None | Train Acc 69.06666666666666 | Test Acc 55.21333333333334\n",
      "Epoch 81 | Batch 0/5 | Loss 2.093504\n",
      "5 Test Acc = 66.93% +- 8.70%\n",
      "100 Test Acc = 56.40% +- 1.77%\n",
      "Epoch 81 | Train Loss None | Train Acc 66.93333333333334 | Test Acc 56.39999999999999\n",
      "Epoch 82 | Batch 0/5 | Loss 2.453957\n",
      "5 Test Acc = 61.87% +- 13.32%\n",
      "100 Test Acc = 54.52% +- 2.09%\n",
      "Epoch 82 | Train Loss None | Train Acc 61.86666666666666 | Test Acc 54.52\n",
      "Epoch 83 | Batch 0/5 | Loss 3.360335\n",
      "5 Test Acc = 64.53% +- 9.40%\n",
      "100 Test Acc = 56.35% +- 1.64%\n",
      "Epoch 83 | Train Loss None | Train Acc 64.53333333333333 | Test Acc 56.34666666666667\n",
      "Epoch 84 | Batch 0/5 | Loss 1.180724\n",
      "5 Test Acc = 58.67% +- 10.53%\n",
      "100 Test Acc = 56.63% +- 1.73%\n",
      "Epoch 84 | Train Loss None | Train Acc 58.666666666666664 | Test Acc 56.62666666666666\n",
      "Epoch 85 | Batch 0/5 | Loss 2.311366\n",
      "5 Test Acc = 65.07% +- 9.56%\n",
      "100 Test Acc = 57.24% +- 1.59%\n",
      "Epoch 85 | Train Loss None | Train Acc 65.06666666666668 | Test Acc 57.23999999999999\n",
      "Epoch 86 | Batch 0/5 | Loss 2.091118\n",
      "5 Test Acc = 60.53% +- 8.38%\n",
      "100 Test Acc = 57.05% +- 1.80%\n",
      "Epoch 86 | Train Loss None | Train Acc 60.53333333333334 | Test Acc 57.05333333333332\n",
      "Epoch 87 | Batch 0/5 | Loss 2.989292\n",
      "5 Test Acc = 69.60% +- 10.44%\n",
      "100 Test Acc = 57.29% +- 1.59%\n",
      "Epoch 87 | Train Loss None | Train Acc 69.6 | Test Acc 57.29333333333333\n",
      "Epoch 88 | Batch 0/5 | Loss 3.336401\n",
      "5 Test Acc = 64.53% +- 4.65%\n",
      "100 Test Acc = 55.12% +- 1.73%\n",
      "Epoch 88 | Train Loss None | Train Acc 64.53333333333333 | Test Acc 55.12000000000001\n",
      "Epoch 89 | Batch 0/5 | Loss 2.030305\n",
      "5 Test Acc = 64.80% +- 6.12%\n",
      "100 Test Acc = 56.59% +- 2.19%\n",
      "Epoch 89 | Train Loss None | Train Acc 64.8 | Test Acc 56.58666666666668\n",
      "Epoch 90 | Batch 0/5 | Loss 1.379241\n",
      "5 Test Acc = 61.87% +- 12.62%\n",
      "100 Test Acc = 54.76% +- 1.69%\n",
      "Epoch 90 | Train Loss None | Train Acc 61.86666666666666 | Test Acc 54.76\n",
      "Epoch 91 | Batch 0/5 | Loss 1.712707\n",
      "5 Test Acc = 59.47% +- 7.04%\n",
      "100 Test Acc = 56.44% +- 1.86%\n",
      "Epoch 91 | Train Loss None | Train Acc 59.46666666666666 | Test Acc 56.43999999999999\n",
      "Epoch 92 | Batch 0/5 | Loss 1.013117\n",
      "5 Test Acc = 61.87% +- 15.98%\n",
      "100 Test Acc = 55.80% +- 1.73%\n",
      "Epoch 92 | Train Loss None | Train Acc 61.86666666666666 | Test Acc 55.79999999999999\n",
      "Epoch 93 | Batch 0/5 | Loss 1.214032\n",
      "5 Test Acc = 61.60% +- 8.76%\n",
      "100 Test Acc = 55.41% +- 1.77%\n",
      "Epoch 93 | Train Loss None | Train Acc 61.6 | Test Acc 55.41333333333333\n",
      "Epoch 94 | Batch 0/5 | Loss 1.782284\n",
      "5 Test Acc = 67.20% +- 5.94%\n",
      "100 Test Acc = 56.24% +- 1.77%\n",
      "Epoch 94 | Train Loss None | Train Acc 67.2 | Test Acc 56.24\n",
      "Epoch 95 | Batch 0/5 | Loss 3.594262\n",
      "5 Test Acc = 62.67% +- 8.65%\n",
      "100 Test Acc = 55.92% +- 1.64%\n",
      "Epoch 95 | Train Loss None | Train Acc 62.666666666666664 | Test Acc 55.92000000000001\n",
      "Epoch 96 | Batch 0/5 | Loss 1.446435\n",
      "5 Test Acc = 65.07% +- 10.28%\n",
      "100 Test Acc = 57.97% +- 1.55%\n",
      "Epoch 96 | Train Loss None | Train Acc 65.06666666666666 | Test Acc 57.97333333333333\n",
      "Epoch 97 | Batch 0/5 | Loss 2.352939\n",
      "5 Test Acc = 61.33% +- 5.96%\n",
      "100 Test Acc = 55.76% +- 1.70%\n",
      "Epoch 97 | Train Loss None | Train Acc 61.333333333333336 | Test Acc 55.76000000000001\n",
      "Epoch 98 | Batch 0/5 | Loss 1.292132\n",
      "5 Test Acc = 65.07% +- 8.21%\n",
      "100 Test Acc = 56.85% +- 1.40%\n",
      "Epoch 98 | Train Loss None | Train Acc 65.06666666666668 | Test Acc 56.85333333333334\n",
      "Epoch 99 | Batch 0/5 | Loss 2.934818\n",
      "5 Test Acc = 61.07% +- 6.59%\n",
      "100 Test Acc = 55.16% +- 1.76%\n",
      "Epoch 99 | Train Loss None | Train Acc 61.06666666666666 | Test Acc 55.16000000000001\n"
     ]
    },
    {
     "data": {
      "image/png": "[encoded data removed]",
      "text/plain": [
       "<Figure size 700x250 with 2 Axes>"
      ]
     },
     "metadata": {},
     "output_type": "display_data"
    }
   ],
   "source": [
    "os.environ[\"WANDB_DISABLED\"] = \"true\"\n",
    "backbone = Id(train_dataset.x_dim)\n",
    "\n",
    "train_model(n_way, n_support, n_query, n_train_episode, train_loader, test_loader, backbone)"
   ]
  },
  {
   "cell_type": "code",
   "execution_count": null,
   "metadata": {},
   "outputs": [],
   "source": []
  }
 ],
 "metadata": {
  "kernelspec": {
   "display_name": "Python 3",
   "language": "python",
   "name": "python3"
  },
  "language_info": {
   "codemirror_mode": {
    "name": "ipython",
    "version": 3
   },
   "file_extension": ".py",
   "mimetype": "text/x-python",
   "name": "python",
   "nbconvert_exporter": "python",
   "pygments_lexer": "ipython3",
   "version": "3.9.7"
  }
 },
 "nbformat": 4,
 "nbformat_minor": 2
}
